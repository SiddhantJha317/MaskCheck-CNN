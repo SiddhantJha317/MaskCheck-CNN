{
 "cells": [
  {
   "cell_type": "code",
   "execution_count": null,
   "metadata": {},
   "outputs": [],
   "source": [
    "from keras.preprocessing.image import ImageDataGenerator\n",
    "\n",
    "TRAINING_DIR = \"./Training_faces\"\n",
    "VALIDATION_DIR = \"./Validation_faces\"\n",
    "\n",
    "train_datagen = ImageDataGenerator(rescale=1./255,                                      \n",
    "                                   rotation_range=40,\n",
    "                                   width_shift_range=0.2,\n",
    "                                   height_shift_range=0.2,\n",
    "                                   shear_range=0.2,\n",
    "                                   zoom_range=0.2,\n",
    "                                   horizontal_flip=True)\n",
    "\n",
    "test_datagen = ImageDataGenerator(rescale=1./255)\n"
   ]
  },
  {
   "cell_type": "code",
   "execution_count": null,
   "metadata": {},
   "outputs": [],
   "source": [
    "import os\n",
    "print(os.listdir(TRAINING_DIR))\n",
    "print(os.listdir(VALIDATION_DIR))"
   ]
  },
  {
   "cell_type": "code",
   "execution_count": null,
   "metadata": {},
   "outputs": [],
   "source": [
    "train_generator = train_datagen.flow_from_directory(TRAINING_DIR,target_size=(100,100),class_mode='categorical',color_mode='grayscale')"
   ]
  },
  {
   "cell_type": "code",
   "execution_count": null,
   "metadata": {},
   "outputs": [],
   "source": [
    "test_generator = test_datagen.flow_from_directory(VALIDATION_DIR, target_size=(100,100), class_mode='categorical',color_mode='grayscale')\n"
   ]
  },
  {
   "cell_type": "code",
   "execution_count": null,
   "metadata": {},
   "outputs": [],
   "source": [
    "\n",
    "from tensorflow.keras import layers\n",
    "from tensorflow import keras\n",
    "from tensorflow.keras import Sequential"
   ]
  },
  {
   "cell_type": "code",
   "execution_count": null,
   "metadata": {},
   "outputs": [],
   "source": [
    "model1 = Sequential()\n",
    "\n",
    "model1.add(keras.Input(shape=(100, 100, 1)))\n",
    "\n",
    "model1.add(layers.Conv2D(filters=64, kernel_size=(2,2), activation=\"relu\"))\n",
    "model1.add(layers.Dropout(0.2))\n",
    "model1.add(layers.MaxPooling2D(pool_size=(2,2)))\n",
    "model1.add(layers.Conv2D(filters=64, kernel_size=(2,2), activation=\"relu\"))\n",
    "model1.add(layers.Dropout(0.2))\n",
    "model1.add(layers.MaxPooling2D(pool_size=(2,2)))\n",
    "model1.add(layers.Dropout(0.2))\n",
    "model1.add(layers.Conv2D(filters=128, kernel_size=(2,2), activation=\"relu\"))\n",
    "\n",
    "model1.add(layers.Flatten())\n",
    "\n",
    "num_classes = 2\n",
    "model1.add(layers.Dropout(0.2))\n",
    "model1.add(layers.Dense(512,activation=\"relu\"))\n",
    "model1.add(layers.Dropout(0.2))\n",
    "model1.add(layers.Dense(num_classes, activation=\"softmax\"))\n",
    "                                                                                                                                                                                                                                                                                                                                                                                                   \n",
    "model1.compile(optimizer=\"adam\",loss=\"categorical_crossentropy\",metrics=[\"accuracy\"])"
   ]
  },
  {
   "cell_type": "code",
   "execution_count": null,
   "metadata": {},
   "outputs": [],
   "source": [
    "model1.fit(train_generator,validation_data=test_generator,epochs=12)"
   ]
  },
  {
   "cell_type": "code",
   "execution_count": null,
   "metadata": {},
   "outputs": [],
   "source": [
    "model1.save('mask_model.h5')\n"
   ]
  }
 ],
 "metadata": {
  "language_info": {
   "name": "python"
  },
  "orig_nbformat": 4
 },
 "nbformat": 4,
 "nbformat_minor": 2
}
